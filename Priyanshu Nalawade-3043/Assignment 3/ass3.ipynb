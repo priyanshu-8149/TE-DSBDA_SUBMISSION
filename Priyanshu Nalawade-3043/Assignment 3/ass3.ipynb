{
 "cells": [
  {
   "cell_type": "code",
   "execution_count": 1,
   "id": "c49d0434",
   "metadata": {},
   "outputs": [],
   "source": [
    "import pandas as pd"
   ]
  },
  {
   "cell_type": "code",
   "execution_count": 2,
   "id": "c5fb8551-91f4-4194-86d4-c54752ce6ad7",
   "metadata": {},
   "outputs": [],
   "source": [
    "#How can we load the dataset from a CSV file into a Pandas DataFrame?"
   ]
  },
  {
   "cell_type": "code",
   "execution_count": 3,
   "id": "8329c833",
   "metadata": {},
   "outputs": [],
   "source": [
    "data=pd.read_excel(\"ass3.xlsx\")"
   ]
  },
  {
   "cell_type": "code",
   "execution_count": 4,
   "id": "9146a8d4",
   "metadata": {},
   "outputs": [
    {
     "data": {
      "text/plain": [
       "<bound method DataFrame.info of     Employee ID First Name  Last Name  Department           Job Title  \\\n",
       "0           101      Aarav     Sharma          IT   Software Engineer   \n",
       "1           102      Priya      Patel          HR          HR Manager   \n",
       "2           103      Rahul      Gupta   Marketing      Marketing Lead   \n",
       "3           104      Sneha      Desai       Sales     Sales Executive   \n",
       "4           105      Arjun        Rao     Finance          Accountant   \n",
       "5           106    Radhika      Mehta          IT       Network Admin   \n",
       "6           107     Vikram      Singh  Operations     Operations Lead   \n",
       "7           108       Neha      Verma     Finance   Financial Analyst   \n",
       "8           109      Karan      Kumar   Marketing      Content Writer   \n",
       "9           110     Ayesha       Khan          HR    Recruitment Head   \n",
       "10          111     Sanjay      Joshi          IT      Full Stack Dev   \n",
       "11          112     Anjali       Iyer       Sales       Sales Manager   \n",
       "12          113        Dev  Choudhury   Marketing    Digital Marketer   \n",
       "13          114      Meera       Nair     Finance     Finance Manager   \n",
       "14          115     Sameer     Bhatia  Operations  Operations Manager   \n",
       "\n",
       "    Hire Date  Salary                    Email  Phone Number  \\\n",
       "0  2018-04-12   80000   aarav.sharma@email.com  987-654-3210   \n",
       "1  2017-03-15   90000    priya.patel@email.com  987-555-6767   \n",
       "2  2019-09-01   85000    rahul.gupta@email.com  987-555-2345   \n",
       "3  2020-02-01   55000    sneha.desai@email.com  987-555-9876   \n",
       "4  2018-07-20   65000      arjun.rao@email.com  987-555-1122   \n",
       "5  2015-06-10   75000  radhika.mehta@email.com  987-654-7890   \n",
       "6  2021-05-20   95000   vikram.singh@email.com  987-555-1212   \n",
       "7  2019-01-25   70000     neha.verma@email.com  987-555-8989   \n",
       "8  2020-07-30   60000    karan.kumar@email.com  987-555-4567   \n",
       "9  2017-04-18   95000    ayesha.khan@email.com  987-555-6789   \n",
       "10 2021-02-10   92000   sanjay.joshi@email.com  987-555-3456   \n",
       "11 2018-08-22   70000    anjali.iyer@email.com  987-555-9870   \n",
       "12 2022-03-18   75000  dev.choudhury@email.com  987-555-6754   \n",
       "13 2017-06-30   85000     meera.nair@email.com  987-555-2233   \n",
       "14 2016-09-12  100000  sameer.bhatia@email.com  987-555-2121   \n",
       "\n",
       "                           Address  \n",
       "0       123 Green St, Delhi, India  \n",
       "1       456 Blue St, Mumbai, India  \n",
       "2     789 Red St, Bangalore, India  \n",
       "3       321 Yellow St, Pune, India  \n",
       "4    101 Violet St, Chennai, India  \n",
       "5   654 Brown St, Hyderabad, India  \n",
       "6    432 Orange St, Kolkata, India  \n",
       "7       876 White St, Delhi, India  \n",
       "8       543 Pink St, Jaipur, India  \n",
       "9      321 Black St, Mumbai, India  \n",
       "10     987 Silver St, Noida, India  \n",
       "11      654 Green St, Kochi, India  \n",
       "12   321 Blue St, Bangalore, India  \n",
       "13  120 Brown St, Ahmedabad, India  \n",
       "14   432 Yellow St, Gurgaon, India  >"
      ]
     },
     "execution_count": 4,
     "metadata": {},
     "output_type": "execute_result"
    }
   ],
   "source": [
    "data.info\n"
   ]
  },
  {
   "cell_type": "code",
   "execution_count": 5,
   "id": "75c9e542",
   "metadata": {},
   "outputs": [
    {
     "name": "stdout",
     "output_type": "stream",
     "text": [
      "<class 'pandas.core.frame.DataFrame'>\n",
      "RangeIndex: 15 entries, 0 to 14\n",
      "Data columns (total 10 columns):\n",
      " #   Column        Non-Null Count  Dtype         \n",
      "---  ------        --------------  -----         \n",
      " 0   Employee ID   15 non-null     int64         \n",
      " 1   First Name    15 non-null     object        \n",
      " 2   Last Name     15 non-null     object        \n",
      " 3   Department    15 non-null     object        \n",
      " 4   Job Title     15 non-null     object        \n",
      " 5   Hire Date     15 non-null     datetime64[ns]\n",
      " 6   Salary        15 non-null     int64         \n",
      " 7   Email         15 non-null     object        \n",
      " 8   Phone Number  15 non-null     object        \n",
      " 9   Address       15 non-null     object        \n",
      "dtypes: datetime64[ns](1), int64(2), object(7)\n",
      "memory usage: 1.3+ KB\n"
     ]
    }
   ],
   "source": [
    "data.info()"
   ]
  },
  {
   "cell_type": "code",
   "execution_count": 6,
   "id": "0a6a2411",
   "metadata": {},
   "outputs": [
    {
     "data": {
      "text/plain": [
       "(15, 10)"
      ]
     },
     "execution_count": 6,
     "metadata": {},
     "output_type": "execute_result"
    }
   ],
   "source": [
    "data.shape"
   ]
  },
  {
   "cell_type": "code",
   "execution_count": 7,
   "id": "51ffbfac",
   "metadata": {},
   "outputs": [],
   "source": [
    "import matplotlib.pyplot as plt"
   ]
  },
  {
   "cell_type": "code",
   "execution_count": 8,
   "id": "b8ad292e",
   "metadata": {},
   "outputs": [
    {
     "data": {
      "text/plain": [
       "<Axes: xlabel='Salary', ylabel='Hire Date'>"
      ]
     },
     "execution_count": 8,
     "metadata": {},
     "output_type": "execute_result"
    },
    {
     "data": {
      "image/png": "[encoded data removed]",
      "text/plain": [
       "<Figure size 640x480 with 1 Axes>"
      ]
     },
     "metadata": {},
     "output_type": "display_data"
    }
   ],
   "source": [
    "data.plot.scatter(x='Salary' , y='Hire Date' , s=100)"
   ]
  },
  {
   "cell_type": "code",
   "execution_count": 9,
   "id": "a90b950e",
   "metadata": {},
   "outputs": [],
   "source": [
    "#Are there any missing values in the dataset? How can we handle them using Pandas?"
   ]
  },
  {
   "cell_type": "code",
   "execution_count": 10,
   "id": "dde01f81-75a5-4503-ba17-b3a1edf56ac1",
   "metadata": {},
   "outputs": [
    {
     "name": "stdout",
     "output_type": "stream",
     "text": [
      "Employee ID     0\n",
      "First Name      0\n",
      "Last Name       0\n",
      "Department      0\n",
      "Job Title       0\n",
      "Hire Date       0\n",
      "Salary          0\n",
      "Email           0\n",
      "Phone Number    0\n",
      "Address         0\n",
      "dtype: int64\n"
     ]
    }
   ],
   "source": [
    "print(data.isnull().sum())"
   ]
  },
  {
   "cell_type": "code",
   "execution_count": 11,
   "id": "828986c8-3719-4953-bd69-a8d9fae32e2c",
   "metadata": {},
   "outputs": [],
   "source": [
    "#How can we find and describe an open-source dataset from a platform like Kaggle or UCI Machine Learning Repository?\n"
   ]
  },
  {
   "cell_type": "code",
   "execution_count": 12,
   "id": "49f00932-2b0a-4de2-9797-51f459d68171",
   "metadata": {},
   "outputs": [],
   "source": [
    "#Are there duplicate employee records, and how can we remove them?\n"
   ]
  },
  {
   "cell_type": "code",
   "execution_count": 13,
   "id": "4f0e79ed-0472-48b7-b25e-b29906c447e2",
   "metadata": {},
   "outputs": [
    {
     "name": "stdout",
     "output_type": "stream",
     "text": [
      "Duplicate Records:\n",
      " Empty DataFrame\n",
      "Columns: [Employee ID, First Name, Last Name, Department, Job Title, Hire Date, Salary, Email, Phone Number, Address]\n",
      "Index: []\n"
     ]
    }
   ],
   "source": [
    "\n",
    "duplicates = data[data.duplicated()]\n",
    "print(\"Duplicate Records:\\n\", duplicates)"
   ]
  },
  {
   "cell_type": "code",
   "execution_count": 14,
   "id": "63450944-d118-445e-9a94-f37abe902e8a",
   "metadata": {},
   "outputs": [],
   "source": [
    "data.drop_duplicates(inplace=True)"
   ]
  },
  {
   "cell_type": "code",
   "execution_count": 15,
   "id": "206fb71e-456a-43a6-9321-2a234b875937",
   "metadata": {},
   "outputs": [],
   "source": [
    "#How can we identify missing values in the dataset and summarize it using describe()?\n"
   ]
  },
  {
   "cell_type": "code",
   "execution_count": 16,
   "id": "45529a77-aae3-4259-b992-cafa311ebb2b",
   "metadata": {},
   "outputs": [
    {
     "data": {
      "text/html": [
       "<div>\n",
       "<style scoped>\n",
       "    .dataframe tbody tr th:only-of-type {\n",
       "        vertical-align: middle;\n",
       "    }\n",
       "\n",
       "    .dataframe tbody tr th {\n",
       "        vertical-align: top;\n",
       "    }\n",
       "\n",
       "    .dataframe thead th {\n",
       "        text-align: right;\n",
       "    }\n",
       "</style>\n",
       "<table border=\"1\" class=\"dataframe\">\n",
       "  <thead>\n",
       "    <tr style=\"text-align: right;\">\n",
       "      <th></th>\n",
       "      <th>Employee ID</th>\n",
       "      <th>Hire Date</th>\n",
       "      <th>Salary</th>\n",
       "    </tr>\n",
       "  </thead>\n",
       "  <tbody>\n",
       "    <tr>\n",
       "      <th>count</th>\n",
       "      <td>15.000000</td>\n",
       "      <td>15</td>\n",
       "      <td>15.000000</td>\n",
       "    </tr>\n",
       "    <tr>\n",
       "      <th>mean</th>\n",
       "      <td>108.000000</td>\n",
       "      <td>2018-11-29 22:24:00</td>\n",
       "      <td>79466.666667</td>\n",
       "    </tr>\n",
       "    <tr>\n",
       "      <th>min</th>\n",
       "      <td>101.000000</td>\n",
       "      <td>2015-06-10 00:00:00</td>\n",
       "      <td>55000.000000</td>\n",
       "    </tr>\n",
       "    <tr>\n",
       "      <th>25%</th>\n",
       "      <td>104.500000</td>\n",
       "      <td>2017-05-24 12:00:00</td>\n",
       "      <td>70000.000000</td>\n",
       "    </tr>\n",
       "    <tr>\n",
       "      <th>50%</th>\n",
       "      <td>108.000000</td>\n",
       "      <td>2018-08-22 00:00:00</td>\n",
       "      <td>80000.000000</td>\n",
       "    </tr>\n",
       "    <tr>\n",
       "      <th>75%</th>\n",
       "      <td>111.500000</td>\n",
       "      <td>2020-05-01 00:00:00</td>\n",
       "      <td>91000.000000</td>\n",
       "    </tr>\n",
       "    <tr>\n",
       "      <th>max</th>\n",
       "      <td>115.000000</td>\n",
       "      <td>2022-03-18 00:00:00</td>\n",
       "      <td>100000.000000</td>\n",
       "    </tr>\n",
       "    <tr>\n",
       "      <th>std</th>\n",
       "      <td>4.472136</td>\n",
       "      <td>NaN</td>\n",
       "      <td>13731.437687</td>\n",
       "    </tr>\n",
       "  </tbody>\n",
       "</table>\n",
       "</div>"
      ],
      "text/plain": [
       "       Employee ID            Hire Date         Salary\n",
       "count    15.000000                   15      15.000000\n",
       "mean    108.000000  2018-11-29 22:24:00   79466.666667\n",
       "min     101.000000  2015-06-10 00:00:00   55000.000000\n",
       "25%     104.500000  2017-05-24 12:00:00   70000.000000\n",
       "50%     108.000000  2018-08-22 00:00:00   80000.000000\n",
       "75%     111.500000  2020-05-01 00:00:00   91000.000000\n",
       "max     115.000000  2022-03-18 00:00:00  100000.000000\n",
       "std       4.472136                  NaN   13731.437687"
      ]
     },
     "execution_count": 16,
     "metadata": {},
     "output_type": "execute_result"
    }
   ],
   "source": [
    "data.describe()"
   ]
  },
  {
   "cell_type": "code",
   "execution_count": 17,
   "id": "bba73e43-86ea-45d9-aa24-ae29842c3241",
   "metadata": {},
   "outputs": [],
   "source": [
    "#What is the dimension (number of rows and columns) of the dataset? What are the data types of the variables?\n"
   ]
  },
  {
   "cell_type": "code",
   "execution_count": 18,
   "id": "2c9518d3-dfd2-4339-9d1f-a52bc2cd65ca",
   "metadata": {},
   "outputs": [
    {
     "data": {
      "text/plain": [
       "(15, 10)"
      ]
     },
     "execution_count": 18,
     "metadata": {},
     "output_type": "execute_result"
    }
   ],
   "source": [
    "data.shape"
   ]
  },
  {
   "cell_type": "code",
   "execution_count": 19,
   "id": "98c6e19f-9a76-473d-b82d-74fe2dad910f",
   "metadata": {},
   "outputs": [],
   "source": [
    "#How can we convert incorrect data types (e.g., date columns to datetime, categorical columns to category)?\n"
   ]
  },
  {
   "cell_type": "code",
   "execution_count": 20,
   "id": "51a6364d-f5b3-4fbb-a74d-48c6930e4cfe",
   "metadata": {},
   "outputs": [],
   "source": [
    "data['Hire Date'] = pd.to_datetime(data['Hire Date'], format='%D/%M/%Y')"
   ]
  },
  {
   "cell_type": "code",
   "execution_count": 21,
   "id": "0b80097d-e3a1-4fbe-b41a-7581c252ce0c",
   "metadata": {},
   "outputs": [
    {
     "data": {
      "text/html": [
       "<div>\n",
       "<style scoped>\n",
       "    .dataframe tbody tr th:only-of-type {\n",
       "        vertical-align: middle;\n",
       "    }\n",
       "\n",
       "    .dataframe tbody tr th {\n",
       "        vertical-align: top;\n",
       "    }\n",
       "\n",
       "    .dataframe thead th {\n",
       "        text-align: right;\n",
       "    }\n",
       "</style>\n",
       "<table border=\"1\" class=\"dataframe\">\n",
       "  <thead>\n",
       "    <tr style=\"text-align: right;\">\n",
       "      <th></th>\n",
       "      <th>Employee ID</th>\n",
       "      <th>First Name</th>\n",
       "      <th>Last Name</th>\n",
       "      <th>Department</th>\n",
       "      <th>Job Title</th>\n",
       "      <th>Hire Date</th>\n",
       "      <th>Salary</th>\n",
       "      <th>Email</th>\n",
       "      <th>Phone Number</th>\n",
       "      <th>Address</th>\n",
       "    </tr>\n",
       "  </thead>\n",
       "  <tbody>\n",
       "    <tr>\n",
       "      <th>0</th>\n",
       "      <td>101</td>\n",
       "      <td>Aarav</td>\n",
       "      <td>Sharma</td>\n",
       "      <td>IT</td>\n",
       "      <td>Software Engineer</td>\n",
       "      <td>2018-04-12</td>\n",
       "      <td>80000</td>\n",
       "      <td>aarav.sharma@email.com</td>\n",
       "      <td>987-654-3210</td>\n",
       "      <td>123 Green St, Delhi, India</td>\n",
       "    </tr>\n",
       "    <tr>\n",
       "      <th>1</th>\n",
       "      <td>102</td>\n",
       "      <td>Priya</td>\n",
       "      <td>Patel</td>\n",
       "      <td>HR</td>\n",
       "      <td>HR Manager</td>\n",
       "      <td>2017-03-15</td>\n",
       "      <td>90000</td>\n",
       "      <td>priya.patel@email.com</td>\n",
       "      <td>987-555-6767</td>\n",
       "      <td>456 Blue St, Mumbai, India</td>\n",
       "    </tr>\n",
       "    <tr>\n",
       "      <th>2</th>\n",
       "      <td>103</td>\n",
       "      <td>Rahul</td>\n",
       "      <td>Gupta</td>\n",
       "      <td>Marketing</td>\n",
       "      <td>Marketing Lead</td>\n",
       "      <td>2019-09-01</td>\n",
       "      <td>85000</td>\n",
       "      <td>rahul.gupta@email.com</td>\n",
       "      <td>987-555-2345</td>\n",
       "      <td>789 Red St, Bangalore, India</td>\n",
       "    </tr>\n",
       "    <tr>\n",
       "      <th>3</th>\n",
       "      <td>104</td>\n",
       "      <td>Sneha</td>\n",
       "      <td>Desai</td>\n",
       "      <td>Sales</td>\n",
       "      <td>Sales Executive</td>\n",
       "      <td>2020-02-01</td>\n",
       "      <td>55000</td>\n",
       "      <td>sneha.desai@email.com</td>\n",
       "      <td>987-555-9876</td>\n",
       "      <td>321 Yellow St, Pune, India</td>\n",
       "    </tr>\n",
       "    <tr>\n",
       "      <th>4</th>\n",
       "      <td>105</td>\n",
       "      <td>Arjun</td>\n",
       "      <td>Rao</td>\n",
       "      <td>Finance</td>\n",
       "      <td>Accountant</td>\n",
       "      <td>2018-07-20</td>\n",
       "      <td>65000</td>\n",
       "      <td>arjun.rao@email.com</td>\n",
       "      <td>987-555-1122</td>\n",
       "      <td>101 Violet St, Chennai, India</td>\n",
       "    </tr>\n",
       "    <tr>\n",
       "      <th>5</th>\n",
       "      <td>106</td>\n",
       "      <td>Radhika</td>\n",
       "      <td>Mehta</td>\n",
       "      <td>IT</td>\n",
       "      <td>Network Admin</td>\n",
       "      <td>2015-06-10</td>\n",
       "      <td>75000</td>\n",
       "      <td>radhika.mehta@email.com</td>\n",
       "      <td>987-654-7890</td>\n",
       "      <td>654 Brown St, Hyderabad, India</td>\n",
       "    </tr>\n",
       "    <tr>\n",
       "      <th>6</th>\n",
       "      <td>107</td>\n",
       "      <td>Vikram</td>\n",
       "      <td>Singh</td>\n",
       "      <td>Operations</td>\n",
       "      <td>Operations Lead</td>\n",
       "      <td>2021-05-20</td>\n",
       "      <td>95000</td>\n",
       "      <td>vikram.singh@email.com</td>\n",
       "      <td>987-555-1212</td>\n",
       "      <td>432 Orange St, Kolkata, India</td>\n",
       "    </tr>\n",
       "    <tr>\n",
       "      <th>7</th>\n",
       "      <td>108</td>\n",
       "      <td>Neha</td>\n",
       "      <td>Verma</td>\n",
       "      <td>Finance</td>\n",
       "      <td>Financial Analyst</td>\n",
       "      <td>2019-01-25</td>\n",
       "      <td>70000</td>\n",
       "      <td>neha.verma@email.com</td>\n",
       "      <td>987-555-8989</td>\n",
       "      <td>876 White St, Delhi, India</td>\n",
       "    </tr>\n",
       "    <tr>\n",
       "      <th>8</th>\n",
       "      <td>109</td>\n",
       "      <td>Karan</td>\n",
       "      <td>Kumar</td>\n",
       "      <td>Marketing</td>\n",
       "      <td>Content Writer</td>\n",
       "      <td>2020-07-30</td>\n",
       "      <td>60000</td>\n",
       "      <td>karan.kumar@email.com</td>\n",
       "      <td>987-555-4567</td>\n",
       "      <td>543 Pink St, Jaipur, India</td>\n",
       "    </tr>\n",
       "    <tr>\n",
       "      <th>9</th>\n",
       "      <td>110</td>\n",
       "      <td>Ayesha</td>\n",
       "      <td>Khan</td>\n",
       "      <td>HR</td>\n",
       "      <td>Recruitment Head</td>\n",
       "      <td>2017-04-18</td>\n",
       "      <td>95000</td>\n",
       "      <td>ayesha.khan@email.com</td>\n",
       "      <td>987-555-6789</td>\n",
       "      <td>321 Black St, Mumbai, India</td>\n",
       "    </tr>\n",
       "    <tr>\n",
       "      <th>10</th>\n",
       "      <td>111</td>\n",
       "      <td>Sanjay</td>\n",
       "      <td>Joshi</td>\n",
       "      <td>IT</td>\n",
       "      <td>Full Stack Dev</td>\n",
       "      <td>2021-02-10</td>\n",
       "      <td>92000</td>\n",
       "      <td>sanjay.joshi@email.com</td>\n",
       "      <td>987-555-3456</td>\n",
       "      <td>987 Silver St, Noida, India</td>\n",
       "    </tr>\n",
       "    <tr>\n",
       "      <th>11</th>\n",
       "      <td>112</td>\n",
       "      <td>Anjali</td>\n",
       "      <td>Iyer</td>\n",
       "      <td>Sales</td>\n",
       "      <td>Sales Manager</td>\n",
       "      <td>2018-08-22</td>\n",
       "      <td>70000</td>\n",
       "      <td>anjali.iyer@email.com</td>\n",
       "      <td>987-555-9870</td>\n",
       "      <td>654 Green St, Kochi, India</td>\n",
       "    </tr>\n",
       "    <tr>\n",
       "      <th>12</th>\n",
       "      <td>113</td>\n",
       "      <td>Dev</td>\n",
       "      <td>Choudhury</td>\n",
       "      <td>Marketing</td>\n",
       "      <td>Digital Marketer</td>\n",
       "      <td>2022-03-18</td>\n",
       "      <td>75000</td>\n",
       "      <td>dev.choudhury@email.com</td>\n",
       "      <td>987-555-6754</td>\n",
       "      <td>321 Blue St, Bangalore, India</td>\n",
       "    </tr>\n",
       "    <tr>\n",
       "      <th>13</th>\n",
       "      <td>114</td>\n",
       "      <td>Meera</td>\n",
       "      <td>Nair</td>\n",
       "      <td>Finance</td>\n",
       "      <td>Finance Manager</td>\n",
       "      <td>2017-06-30</td>\n",
       "      <td>85000</td>\n",
       "      <td>meera.nair@email.com</td>\n",
       "      <td>987-555-2233</td>\n",
       "      <td>120 Brown St, Ahmedabad, India</td>\n",
       "    </tr>\n",
       "    <tr>\n",
       "      <th>14</th>\n",
       "      <td>115</td>\n",
       "      <td>Sameer</td>\n",
       "      <td>Bhatia</td>\n",
       "      <td>Operations</td>\n",
       "      <td>Operations Manager</td>\n",
       "      <td>2016-09-12</td>\n",
       "      <td>100000</td>\n",
       "      <td>sameer.bhatia@email.com</td>\n",
       "      <td>987-555-2121</td>\n",
       "      <td>432 Yellow St, Gurgaon, India</td>\n",
       "    </tr>\n",
       "  </tbody>\n",
       "</table>\n",
       "</div>"
      ],
      "text/plain": [
       "    Employee ID First Name  Last Name  Department           Job Title  \\\n",
       "0           101      Aarav     Sharma          IT   Software Engineer   \n",
       "1           102      Priya      Patel          HR          HR Manager   \n",
       "2           103      Rahul      Gupta   Marketing      Marketing Lead   \n",
       "3           104      Sneha      Desai       Sales     Sales Executive   \n",
       "4           105      Arjun        Rao     Finance          Accountant   \n",
       "5           106    Radhika      Mehta          IT       Network Admin   \n",
       "6           107     Vikram      Singh  Operations     Operations Lead   \n",
       "7           108       Neha      Verma     Finance   Financial Analyst   \n",
       "8           109      Karan      Kumar   Marketing      Content Writer   \n",
       "9           110     Ayesha       Khan          HR    Recruitment Head   \n",
       "10          111     Sanjay      Joshi          IT      Full Stack Dev   \n",
       "11          112     Anjali       Iyer       Sales       Sales Manager   \n",
       "12          113        Dev  Choudhury   Marketing    Digital Marketer   \n",
       "13          114      Meera       Nair     Finance     Finance Manager   \n",
       "14          115     Sameer     Bhatia  Operations  Operations Manager   \n",
       "\n",
       "    Hire Date  Salary                    Email  Phone Number  \\\n",
       "0  2018-04-12   80000   aarav.sharma@email.com  987-654-3210   \n",
       "1  2017-03-15   90000    priya.patel@email.com  987-555-6767   \n",
       "2  2019-09-01   85000    rahul.gupta@email.com  987-555-2345   \n",
       "3  2020-02-01   55000    sneha.desai@email.com  987-555-9876   \n",
       "4  2018-07-20   65000      arjun.rao@email.com  987-555-1122   \n",
       "5  2015-06-10   75000  radhika.mehta@email.com  987-654-7890   \n",
       "6  2021-05-20   95000   vikram.singh@email.com  987-555-1212   \n",
       "7  2019-01-25   70000     neha.verma@email.com  987-555-8989   \n",
       "8  2020-07-30   60000    karan.kumar@email.com  987-555-4567   \n",
       "9  2017-04-18   95000    ayesha.khan@email.com  987-555-6789   \n",
       "10 2021-02-10   92000   sanjay.joshi@email.com  987-555-3456   \n",
       "11 2018-08-22   70000    anjali.iyer@email.com  987-555-9870   \n",
       "12 2022-03-18   75000  dev.choudhury@email.com  987-555-6754   \n",
       "13 2017-06-30   85000     meera.nair@email.com  987-555-2233   \n",
       "14 2016-09-12  100000  sameer.bhatia@email.com  987-555-2121   \n",
       "\n",
       "                           Address  \n",
       "0       123 Green St, Delhi, India  \n",
       "1       456 Blue St, Mumbai, India  \n",
       "2     789 Red St, Bangalore, India  \n",
       "3       321 Yellow St, Pune, India  \n",
       "4    101 Violet St, Chennai, India  \n",
       "5   654 Brown St, Hyderabad, India  \n",
       "6    432 Orange St, Kolkata, India  \n",
       "7       876 White St, Delhi, India  \n",
       "8       543 Pink St, Jaipur, India  \n",
       "9      321 Black St, Mumbai, India  \n",
       "10     987 Silver St, Noida, India  \n",
       "11      654 Green St, Kochi, India  \n",
       "12   321 Blue St, Bangalore, India  \n",
       "13  120 Brown St, Ahmedabad, India  \n",
       "14   432 Yellow St, Gurgaon, India  "
      ]
     },
     "execution_count": 21,
     "metadata": {},
     "output_type": "execute_result"
    }
   ],
   "source": [
    "data"
   ]
  },
  {
   "cell_type": "code",
   "execution_count": 22,
   "id": "0ee22f74-4973-4acb-9634-cf32fa8905ad",
   "metadata": {},
   "outputs": [],
   "source": [
    "#How can we normalize numerical variables (e.g., scaling salary data to a range between 0 and 1)?\n"
   ]
  },
  {
   "cell_type": "code",
   "execution_count": 23,
   "id": "c6ab0dd1-7290-494a-a850-23c9eb34820b",
   "metadata": {},
   "outputs": [],
   "source": [
    "from sklearn.preprocessing import MinMaxScaler"
   ]
  },
  {
   "cell_type": "code",
   "execution_count": 24,
   "id": "6943c843-637b-4c28-aa6f-99943905e66a",
   "metadata": {},
   "outputs": [],
   "source": [
    "scaler = MinMaxScaler()"
   ]
  },
  {
   "cell_type": "code",
   "execution_count": 25,
   "id": "b1768b0a-9b2f-4228-bfa5-3120d508b0b3",
   "metadata": {},
   "outputs": [],
   "source": [
    "data['Salary_Scaled'] = scaler.fit_transform(data[['Salary']])"
   ]
  },
  {
   "cell_type": "code",
   "execution_count": 26,
   "id": "4903662b-f467-40cd-8949-6b98144a7293",
   "metadata": {},
   "outputs": [
    {
     "name": "stdout",
     "output_type": "stream",
     "text": [
      "   Salary  Salary_Scaled\n",
      "0   80000       0.555556\n",
      "1   90000       0.777778\n",
      "2   85000       0.666667\n",
      "3   55000       0.000000\n",
      "4   65000       0.222222\n"
     ]
    }
   ],
   "source": [
    "print(data[['Salary', 'Salary_Scaled']].head())"
   ]
  },
  {
   "cell_type": "code",
   "execution_count": 27,
   "id": "b55cf75d-0d3c-47b2-8efd-56be4d505943",
   "metadata": {},
   "outputs": [],
   "source": [
    "#Are all salary values in the correct format (e.g., removing special characters, ensuring numeric values)?\n"
   ]
  },
  {
   "cell_type": "code",
   "execution_count": 28,
   "id": "9736c8a9-b71b-4360-8990-be5b50721853",
   "metadata": {},
   "outputs": [
    {
     "name": "stdout",
     "output_type": "stream",
     "text": [
      "int64\n"
     ]
    }
   ],
   "source": [
    "print(data['Salary'].dtype)"
   ]
  },
  {
   "cell_type": "code",
   "execution_count": 29,
   "id": "a20bec75-519c-4b34-a355-2b34fc9414c9",
   "metadata": {},
   "outputs": [],
   "source": [
    "#How can we extract the number of years an employee has been with the company?"
   ]
  },
  {
   "cell_type": "code",
   "execution_count": 30,
   "id": "0876f4c3-c4cb-41ab-b80c-764754133b7b",
   "metadata": {},
   "outputs": [
    {
     "data": {
      "text/plain": [
       "0    2018-04-12\n",
       "1    2017-03-15\n",
       "2    2019-09-01\n",
       "3    2020-02-01\n",
       "4    2018-07-20\n",
       "5    2015-06-10\n",
       "6    2021-05-20\n",
       "7    2019-01-25\n",
       "8    2020-07-30\n",
       "9    2017-04-18\n",
       "10   2021-02-10\n",
       "11   2018-08-22\n",
       "12   2022-03-18\n",
       "13   2017-06-30\n",
       "14   2016-09-12\n",
       "Name: Hire Date, dtype: datetime64[ns]"
      ]
     },
     "execution_count": 30,
     "metadata": {},
     "output_type": "execute_result"
    }
   ],
   "source": [
    "data['Hire Date'].head(15)"
   ]
  },
  {
   "cell_type": "code",
   "execution_count": 61,
   "id": "72b70192-4f3b-40e7-8a6a-d87e84b00fbf",
   "metadata": {},
   "outputs": [],
   "source": [
    "from datetime import datetime"
   ]
  },
  {
   "cell_type": "code",
   "execution_count": 69,
   "id": "0df0224c-1c63-4d24-a702-6e14e7a47ad4",
   "metadata": {},
   "outputs": [],
   "source": [
    "#Identify outliers"
   ]
  },
  {
   "cell_type": "code",
   "execution_count": 71,
   "id": "f3c920ed-3d84-463d-9d1d-58251cc07cf1",
   "metadata": {},
   "outputs": [
    {
     "data": {
      "text/plain": [
       "<Axes: >"
      ]
     },
     "execution_count": 71,
     "metadata": {},
     "output_type": "execute_result"
    },
    {
     "data": {
      "image/png": "[encoded data removed]",
      "text/plain": [
       "<Figure size 640x480 with 1 Axes>"
      ]
     },
     "metadata": {},
     "output_type": "display_data"
    }
   ],
   "source": [
    "data.plot.box()"
   ]
  },
  {
   "cell_type": "code",
   "execution_count": 73,
   "id": "8b944060-af26-45ae-b1f0-8e0173bcf24a",
   "metadata": {},
   "outputs": [],
   "source": [
    "#How can we make column names lowercase and remove spaces for consistency?"
   ]
  },
  {
   "cell_type": "code",
   "execution_count": 75,
   "id": "f2a0e8dd-4d33-421d-9785-abeae570ee04",
   "metadata": {},
   "outputs": [],
   "source": [
    "data.columns=data.columns.str.lower().str.replace(' ','_')"
   ]
  },
  {
   "cell_type": "code",
   "execution_count": 77,
   "id": "bc9f6381-8247-41ea-a1f1-c5d8fa0b0ae2",
   "metadata": {},
   "outputs": [
    {
     "data": {
      "text/plain": [
       "Index(['employee_id', 'first_name', 'last_name', 'department', 'job_title',\n",
       "       'hire_date', 'salary', 'email', 'phone_number', 'address',\n",
       "       'salary_scaled'],\n",
       "      dtype='object')"
      ]
     },
     "execution_count": 77,
     "metadata": {},
     "output_type": "execute_result"
    }
   ],
   "source": [
    "data.columns"
   ]
  },
  {
   "cell_type": "code",
   "execution_count": 79,
   "id": "7fd4702c-de90-43c1-9dfa-02d15944dd58",
   "metadata": {},
   "outputs": [],
   "source": [
    "#calculate avaerage salary"
   ]
  },
  {
   "cell_type": "code",
   "execution_count": 81,
   "id": "b940e0d6-c4c6-438e-b7b6-563d3f9e8d4b",
   "metadata": {},
   "outputs": [],
   "source": [
    "data['salary']=pd.to_numeric(data['salary'], errors='coerce')"
   ]
  },
  {
   "cell_type": "code",
   "execution_count": 83,
   "id": "16a080ad-a06c-4b8e-8d0a-af09e5047dda",
   "metadata": {},
   "outputs": [],
   "source": [
    "average_salary=data['salary'].mean()"
   ]
  },
  {
   "cell_type": "code",
   "execution_count": 85,
   "id": "83524144-9a2c-4384-a39d-d61d9583d23f",
   "metadata": {},
   "outputs": [
    {
     "data": {
      "text/plain": [
       "79466.66666666667"
      ]
     },
     "execution_count": 85,
     "metadata": {},
     "output_type": "execute_result"
    }
   ],
   "source": [
    "average_salary"
   ]
  },
  {
   "cell_type": "code",
   "execution_count": 87,
   "id": "2139c15d-553b-4d92-80df-2e5439353da6",
   "metadata": {},
   "outputs": [],
   "source": [
    "#filter employee who worked more then 50 hours"
   ]
  },
  {
   "cell_type": "code",
   "execution_count": 89,
   "id": "e26f66b2-c17a-4f0e-94fc-8e533e30c88f",
   "metadata": {},
   "outputs": [],
   "source": [
    "data['Overtime Hours']=0"
   ]
  },
  {
   "cell_type": "code",
   "execution_count": 91,
   "id": "2fbdb129-3ca1-4743-8cbf-c9434f6ff01c",
   "metadata": {},
   "outputs": [],
   "source": [
    "Overtime_Hours=[10,20,5,15,50,55,43,2,33,12,1,4,5,54,18]"
   ]
  },
  {
   "cell_type": "code",
   "execution_count": 93,
   "id": "12bfd849-9f38-4418-ad37-a6510f2b6973",
   "metadata": {},
   "outputs": [],
   "source": [
    "data['Overtime Hours']=Overtime_Hours"
   ]
  },
  {
   "cell_type": "code",
   "execution_count": 95,
   "id": "153bbe13-b989-459b-8142-9c032f58c8a2",
   "metadata": {},
   "outputs": [],
   "source": [
    "overtime_employee=data[data['Overtime Hours'] >=50]"
   ]
  },
  {
   "cell_type": "code",
   "execution_count": 97,
   "id": "32fbeea2-228a-47a1-ace4-e1de3bfee4b8",
   "metadata": {},
   "outputs": [
    {
     "name": "stdout",
     "output_type": "stream",
     "text": [
      "    employee_id first_name last_name department        job_title  hire_date  \\\n",
      "4           105      Arjun       Rao    Finance       Accountant 2018-07-20   \n",
      "5           106    Radhika     Mehta         IT    Network Admin 2015-06-10   \n",
      "13          114      Meera      Nair    Finance  Finance Manager 2017-06-30   \n",
      "\n",
      "    salary                    email  phone_number  \\\n",
      "4    65000      arjun.rao@email.com  987-555-1122   \n",
      "5    75000  radhika.mehta@email.com  987-654-7890   \n",
      "13   85000     meera.nair@email.com  987-555-2233   \n",
      "\n",
      "                           address  salary_scaled  Overtime Hours  \n",
      "4    101 Violet St, Chennai, India       0.222222              50  \n",
      "5   654 Brown St, Hyderabad, India       0.444444              55  \n",
      "13  120 Brown St, Ahmedabad, India       0.666667              54  \n"
     ]
    }
   ],
   "source": [
    "print(overtime_employee)"
   ]
  },
  {
   "cell_type": "code",
   "execution_count": 99,
   "id": "2fda7288-cd5c-4228-b96c-409e684f4f4a",
   "metadata": {},
   "outputs": [],
   "source": [
    "#How can we visualize relationships between variables using seaborn"
   ]
  },
  {
   "cell_type": "code",
   "execution_count": 101,
   "id": "2fb25980-6be7-4a47-8354-63b3fe42123f",
   "metadata": {},
   "outputs": [],
   "source": [
    "import seaborn as sns"
   ]
  },
  {
   "cell_type": "code",
   "execution_count": 103,
   "id": "9911b44d-28d8-46f5-8bf7-a7fdbfc14607",
   "metadata": {},
   "outputs": [
    {
     "data": {
      "image/png": "[encoded data removed]",
      "text/plain": [
       "<Figure size 800x500 with 1 Axes>"
      ]
     },
     "metadata": {},
     "output_type": "display_data"
    }
   ],
   "source": [
    "plt.figure(figsize=(8,5))\n",
    "sns.histplot(data['salary'], bins=20, kde=True, color='pink')\n",
    "plt.title(\"Salary Distribution\")\n",
    "plt.xlabel(\"Salary\")\n",
    "plt.ylabel(\"Count\")\n",
    "plt.show()          "
   ]
  },
  {
   "cell_type": "code",
   "execution_count": null,
   "id": "6cfeecd9-5298-4d9b-a55c-c09429616a84",
   "metadata": {},
   "outputs": [],
   "source": []
  }
 ],
 "metadata": {
  "kernelspec": {
   "display_name": "Python [conda env:base] *",
   "language": "python",
   "name": "conda-base-py"
  },
  "language_info": {
   "codemirror_mode": {
    "name": "ipython",
    "version": 3
   },
   "file_extension": ".py",
   "mimetype": "text/x-python",
   "name": "python",
   "nbconvert_exporter": "python",
   "pygments_lexer": "ipython3",
   "version": "3.12.7"
  }
 },
 "nbformat": 4,
 "nbformat_minor": 5
}
